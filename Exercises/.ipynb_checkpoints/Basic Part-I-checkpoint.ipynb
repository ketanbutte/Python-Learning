{
 "cells": [
  {
   "cell_type": "markdown",
   "id": "cd23b4d9",
   "metadata": {},
   "source": [
    "https://www.w3resource.com/python-exercises/python-basic-exercises.php"
   ]
  },
  {
   "cell_type": "markdown",
   "id": "4c14b47c",
   "metadata": {},
   "source": [
    "**1. Write a Python program to print the following string in a specific format (see the output)**  \n",
    " \"Twinkle, twinkle, little star, How I wonder what you are! Up above the world so high, Like a diamond in the sky. Twinkle, twinkle, little star, How I wonder what you are\" Output :  \n",
    "\n",
    "Twinkle, twinkle, little star,  \n",
    "\tHow I wonder what you are! \n",
    "\t\tUp above the world so high,     \t\t\n",
    "\t\tLike a diamond in the sky.   \n",
    "Twinkle, twinkle, little star,   \n",
    "\tHow I wonder what you are  "
   ]
  },
  {
   "cell_type": "code",
   "execution_count": 29,
   "id": "47bae727",
   "metadata": {},
   "outputs": [
    {
     "name": "stdout",
     "output_type": "stream",
     "text": [
      "Twinkle, twinkle, little star,\n",
      "\tHow I wonder what you are!\n",
      "\t\tUp above the world so high,\n",
      "\t\tLike a diamond in the sky.\n",
      "Twinkle, twinkle, little star,\n",
      "\tHow I wonder what you are\n"
     ]
    }
   ],
   "source": [
    "print(\"Twinkle, twinkle, little star,\\n\\tHow I wonder what you are!\\n\\t\\tUp above the world so high,\\n\\t\\tLike a diamond in the sky.\\nTwinkle, twinkle, little star,\\n\\tHow I wonder what you are\")"
   ]
  },
  {
   "cell_type": "markdown",
   "id": "6d60cf2e",
   "metadata": {},
   "source": [
    "**2. Write a Python program to get the Python version you are using.**"
   ]
  },
  {
   "cell_type": "code",
   "execution_count": 35,
   "id": "5f98ed2d",
   "metadata": {},
   "outputs": [],
   "source": [
    "import sys"
   ]
  },
  {
   "cell_type": "code",
   "execution_count": 37,
   "id": "ce51a3ef",
   "metadata": {},
   "outputs": [
    {
     "name": "stdout",
     "output_type": "stream",
     "text": [
      "3.9.7 (default, Sep 16 2021, 16:59:28) [MSC v.1916 64 bit (AMD64)]\n"
     ]
    }
   ],
   "source": [
    "print(sys.version)"
   ]
  },
  {
   "cell_type": "markdown",
   "id": "602a4a33",
   "metadata": {},
   "source": [
    "**3. Write a Python program to display the current date and time.**  \n",
    "Sample Output :\n",
    "Current date and time :\n",
    "2014-07-05 14:34:14"
   ]
  },
  {
   "cell_type": "code",
   "execution_count": 49,
   "id": "0cc74619",
   "metadata": {},
   "outputs": [
    {
     "name": "stdout",
     "output_type": "stream",
     "text": [
      "2022-07-30 22:03\n"
     ]
    }
   ],
   "source": [
    "import datetime\n",
    "\n",
    "current_date_time = datetime.datetime.now()\n"
   ]
  },
  {
   "cell_type": "code",
   "execution_count": 54,
   "id": "3b13735f",
   "metadata": {},
   "outputs": [
    {
     "name": "stdout",
     "output_type": "stream",
     "text": [
      "2022-07-30 22:03:50\n"
     ]
    }
   ],
   "source": [
    "print(current_date_time.strftime('%Y-%m-%d %H:%M:%S'))"
   ]
  },
  {
   "cell_type": "markdown",
   "id": "234fe5b3",
   "metadata": {},
   "source": [
    "**4.Write a Python program which accepts the radius of a circle from the user and compute the area**"
   ]
  },
  {
   "cell_type": "code",
   "execution_count": 4,
   "id": "6cc99997",
   "metadata": {},
   "outputs": [
    {
     "name": "stdout",
     "output_type": "stream",
     "text": [
      "Enter radius1.1\n"
     ]
    }
   ],
   "source": [
    "radius = float(input('Enter radius'))"
   ]
  },
  {
   "cell_type": "code",
   "execution_count": 8,
   "id": "ac5e1c7a",
   "metadata": {},
   "outputs": [],
   "source": [
    "area = 3.14 * (radius **2)"
   ]
  },
  {
   "cell_type": "code",
   "execution_count": 9,
   "id": "fe8d28b7",
   "metadata": {},
   "outputs": [
    {
     "data": {
      "text/plain": [
       "3.7994000000000008"
      ]
     },
     "execution_count": 9,
     "metadata": {},
     "output_type": "execute_result"
    }
   ],
   "source": [
    "area"
   ]
  },
  {
   "cell_type": "code",
   "execution_count": 10,
   "id": "49e0c215",
   "metadata": {},
   "outputs": [],
   "source": [
    "import math"
   ]
  },
  {
   "cell_type": "code",
   "execution_count": 11,
   "id": "a4c2d451",
   "metadata": {},
   "outputs": [
    {
     "data": {
      "text/plain": [
       "3.141592653589793"
      ]
     },
     "execution_count": 11,
     "metadata": {},
     "output_type": "execute_result"
    }
   ],
   "source": [
    "math.pi"
   ]
  },
  {
   "cell_type": "code",
   "execution_count": 12,
   "id": "e76054d3",
   "metadata": {},
   "outputs": [],
   "source": [
    "area = math.pi * (radius **2)"
   ]
  },
  {
   "cell_type": "code",
   "execution_count": 13,
   "id": "2405e1cb",
   "metadata": {},
   "outputs": [
    {
     "data": {
      "text/plain": [
       "3.8013271108436504"
      ]
     },
     "execution_count": 13,
     "metadata": {},
     "output_type": "execute_result"
    }
   ],
   "source": [
    "area"
   ]
  },
  {
   "cell_type": "markdown",
   "id": "c02e78ce",
   "metadata": {},
   "source": [
    "**5. Write a Python program which accepts the user's first and last name and print them in reverse order with a space between them**"
   ]
  },
  {
   "cell_type": "code",
   "execution_count": 37,
   "id": "77a63b61",
   "metadata": {},
   "outputs": [
    {
     "name": "stdout",
     "output_type": "stream",
     "text": [
      "enter first and last name: roger federer\n"
     ]
    }
   ],
   "source": [
    "user_name = input('enter first and last name: ')"
   ]
  },
  {
   "cell_type": "code",
   "execution_count": 38,
   "id": "58282b2b",
   "metadata": {},
   "outputs": [
    {
     "data": {
      "text/plain": [
       "'federer roger'"
      ]
     },
     "execution_count": 38,
     "metadata": {},
     "output_type": "execute_result"
    }
   ],
   "source": [
    "' '.join(user_name.split()[::-1])"
   ]
  },
  {
   "cell_type": "raw",
   "id": "eba55874",
   "metadata": {},
   "source": [
    "2nd approach"
   ]
  },
  {
   "cell_type": "code",
   "execution_count": 41,
   "id": "498426c1",
   "metadata": {},
   "outputs": [
    {
     "name": "stdout",
     "output_type": "stream",
     "text": [
      "enter first name: rafael\n",
      "enter last name: nadal\n"
     ]
    }
   ],
   "source": [
    "first_name = input('enter first name: ')\n",
    "last_name = input('enter last name: ')"
   ]
  },
  {
   "cell_type": "code",
   "execution_count": 42,
   "id": "e50b6864",
   "metadata": {},
   "outputs": [
    {
     "name": "stdout",
     "output_type": "stream",
     "text": [
      "Hi nadal rafael\n"
     ]
    }
   ],
   "source": [
    "print('Hi ' +last_name+\" \"+first_name)"
   ]
  },
  {
   "cell_type": "code",
   "execution_count": null,
   "id": "26eef9a3",
   "metadata": {},
   "outputs": [],
   "source": []
  }
 ],
 "metadata": {
  "kernelspec": {
   "display_name": "Python 3 (ipykernel)",
   "language": "python",
   "name": "python3"
  },
  "language_info": {
   "codemirror_mode": {
    "name": "ipython",
    "version": 3
   },
   "file_extension": ".py",
   "mimetype": "text/x-python",
   "name": "python",
   "nbconvert_exporter": "python",
   "pygments_lexer": "ipython3",
   "version": "3.9.7"
  }
 },
 "nbformat": 4,
 "nbformat_minor": 5
}
