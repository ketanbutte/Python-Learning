{
 "cells": [
  {
   "cell_type": "markdown",
   "id": "cd23b4d9",
   "metadata": {},
   "source": [
    "https://www.w3resource.com/python-exercises/python-basic-exercises.php"
   ]
  },
  {
   "cell_type": "markdown",
   "id": "4c14b47c",
   "metadata": {},
   "source": [
    "**1. Write a Python program to print the following string in a specific format (see the output)**  \n",
    " \"Twinkle, twinkle, little star, How I wonder what you are! Up above the world so high, Like a diamond in the sky. Twinkle, twinkle, little star, How I wonder what you are\" Output :  \n",
    "\n",
    "Twinkle, twinkle, little star,  \n",
    "\tHow I wonder what you are! \n",
    "\t\tUp above the world so high,     \t\t\n",
    "\t\tLike a diamond in the sky.   \n",
    "Twinkle, twinkle, little star,   \n",
    "\tHow I wonder what you are  "
   ]
  },
  {
   "cell_type": "code",
   "execution_count": 29,
   "id": "47bae727",
   "metadata": {},
   "outputs": [
    {
     "name": "stdout",
     "output_type": "stream",
     "text": [
      "Twinkle, twinkle, little star,\n",
      "\tHow I wonder what you are!\n",
      "\t\tUp above the world so high,\n",
      "\t\tLike a diamond in the sky.\n",
      "Twinkle, twinkle, little star,\n",
      "\tHow I wonder what you are\n"
     ]
    }
   ],
   "source": [
    "print(\"Twinkle, twinkle, little star,\\n\\tHow I wonder what you are!\\n\\t\\tUp above the world so high,\\n\\t\\tLike a diamond in the sky.\\nTwinkle, twinkle, little star,\\n\\tHow I wonder what you are\")"
   ]
  },
  {
   "cell_type": "markdown",
   "id": "6d60cf2e",
   "metadata": {},
   "source": [
    "**2. Write a Python program to get the Python version you are using.**"
   ]
  },
  {
   "cell_type": "code",
   "execution_count": 35,
   "id": "5f98ed2d",
   "metadata": {},
   "outputs": [],
   "source": [
    "import sys"
   ]
  },
  {
   "cell_type": "code",
   "execution_count": 37,
   "id": "ce51a3ef",
   "metadata": {},
   "outputs": [
    {
     "name": "stdout",
     "output_type": "stream",
     "text": [
      "3.9.7 (default, Sep 16 2021, 16:59:28) [MSC v.1916 64 bit (AMD64)]\n"
     ]
    }
   ],
   "source": [
    "print(sys.version)"
   ]
  },
  {
   "cell_type": "markdown",
   "id": "602a4a33",
   "metadata": {},
   "source": [
    "**3. Write a Python program to display the current date and time.**  \n",
    "Sample Output :\n",
    "Current date and time :\n",
    "2014-07-05 14:34:14"
   ]
  },
  {
   "cell_type": "code",
   "execution_count": 49,
   "id": "0cc74619",
   "metadata": {},
   "outputs": [
    {
     "name": "stdout",
     "output_type": "stream",
     "text": [
      "2022-07-30 22:03\n"
     ]
    }
   ],
   "source": [
    "import datetime\n",
    "\n",
    "current_date_time = datetime.datetime.now()\n"
   ]
  },
  {
   "cell_type": "code",
   "execution_count": 54,
   "id": "3b13735f",
   "metadata": {},
   "outputs": [
    {
     "name": "stdout",
     "output_type": "stream",
     "text": [
      "2022-07-30 22:03:50\n"
     ]
    }
   ],
   "source": [
    "print(current_date_time.strftime('%Y-%m-%d %H:%M:%S'))"
   ]
  },
  {
   "cell_type": "code",
   "execution_count": null,
   "id": "1737291c",
   "metadata": {},
   "outputs": [],
   "source": []
  }
 ],
 "metadata": {
  "kernelspec": {
   "display_name": "Python 3 (ipykernel)",
   "language": "python",
   "name": "python3"
  },
  "language_info": {
   "codemirror_mode": {
    "name": "ipython",
    "version": 3
   },
   "file_extension": ".py",
   "mimetype": "text/x-python",
   "name": "python",
   "nbconvert_exporter": "python",
   "pygments_lexer": "ipython3",
   "version": "3.9.7"
  }
 },
 "nbformat": 4,
 "nbformat_minor": 5
}
